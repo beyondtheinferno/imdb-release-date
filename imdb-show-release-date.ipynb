{
 "cells": [
  {
   "cell_type": "code",
   "execution_count": 1,
   "metadata": {
    "collapsed": true
   },
   "outputs": [],
   "source": [
    "from bs4 import BeautifulSoup\n",
    "import requests\n",
    "import re\n",
    "import datetime"
   ]
  },
  {
   "cell_type": "code",
   "execution_count": 2,
   "metadata": {
    "collapsed": true
   },
   "outputs": [],
   "source": [
    "def text_in_tag(tag):\n",
    "    string = tag.get_text()\n",
    "    string = string.rstrip()\n",
    "    string = string.lstrip()\n",
    "    return string"
   ]
  },
  {
   "cell_type": "code",
   "execution_count": null,
   "metadata": {},
   "outputs": [],
   "source": []
  },
  {
   "cell_type": "code",
   "execution_count": 49,
   "metadata": {
    "collapsed": true
   },
   "outputs": [],
   "source": [
    "base_url = 'https://www.imdb.com/title/tt5420376/'     # Riverdale\n",
    "base_url1 = 'https://www.imdb.com/title/tt1837492/'    # 13RW\n",
    "base_url2 = 'https://www.imdb.com/title/tt3107288/'    # Flash\n",
    "base_url3 = 'https://www.imdb.com/title/tt6077448/'    # Sacred Games\n",
    "base_url4 = 'https://www.imdb.com/title/tt0903747/'    # Breaking Bad\n",
    "base_url5 = 'https://www.imdb.com/title/tt1119644/'    # Fringe\n",
    "base_url6 = 'https://www.imdb.com/title/tt0108778/'    # FRIENDS\n",
    "base_url7 = 'https://www.imdb.com/title/tt0944947/'    # Game Of Thrones\n",
    "response = requests.get(base_url7)"
   ]
  },
  {
   "cell_type": "code",
   "execution_count": 50,
   "metadata": {
    "collapsed": true
   },
   "outputs": [],
   "source": [
    "soup = BeautifulSoup(response.content, 'html.parser')\n",
    "#print(soup.prettify())"
   ]
  },
  {
   "cell_type": "code",
   "execution_count": 51,
   "metadata": {},
   "outputs": [
    {
     "data": {
      "text/plain": [
       "'In the mythical continent of Westeros, several powerful families fight for control of the Seven Kingdoms. As conflict erupts in the kingdoms of men, an ancient enemy rises once again to threaten them all. Meanwhile, the last heirs of a recently usurped dynasty plot to take back their homeland from across the Narrow Sea.'"
      ]
     },
     "execution_count": 51,
     "metadata": {},
     "output_type": "execute_result"
    }
   ],
   "source": [
    "div = soup.find_all('div', id='titleStoryLine')[0]\n",
    "temp = div.find('div', class_='inline canwrap')\n",
    "temp = temp.find('span')\n",
    "story = text_in_tag(temp)\n",
    "story"
   ]
  },
  {
   "cell_type": "code",
   "execution_count": 52,
   "metadata": {},
   "outputs": [
    {
     "name": "stdout",
     "output_type": "stream",
     "text": [
      "Genre -> \n",
      "['dragon', 'based on novel', 'bloody violence', 'twins incest', 'politics']\n"
     ]
    }
   ],
   "source": [
    "temp2 = div.find('div', class_='see-more inline canwrap')\n",
    "temp2 = temp2.find_all('a')\n",
    "genre = []\n",
    "for x in temp2:\n",
    "    g = text_in_tag(x)\n",
    "    if g.lower().startswith('see all'):\n",
    "        break\n",
    "    genre.append(g)\n",
    "print(\"Genre -> \")\n",
    "print(genre)"
   ]
  },
  {
   "cell_type": "code",
   "execution_count": 53,
   "metadata": {},
   "outputs": [
    {
     "name": "stdout",
     "output_type": "stream",
     "text": [
      "Latest season ->  8\n",
      "Link ->  /title/tt0944947/episodes?season=8&ref_=tt_eps_sn_8\n"
     ]
    }
   ],
   "source": [
    "div = soup.find_all('div', class_='seasons-and-year-nav')[0]\n",
    "a_list = div.find_all('a')\n",
    "latest_season = a_list[0].get_text()\n",
    "latest_season_link = a_list[0]['href']\n",
    "print(\"Latest season -> \",latest_season)\n",
    "print(\"Link -> \", latest_season_link)"
   ]
  },
  {
   "cell_type": "code",
   "execution_count": null,
   "metadata": {
    "collapsed": true
   },
   "outputs": [],
   "source": []
  },
  {
   "cell_type": "code",
   "execution_count": 54,
   "metadata": {
    "collapsed": true
   },
   "outputs": [],
   "source": [
    "episodes_url = 'https://www.imdb.com' + latest_season_link\n",
    "response2 = requests.get(episodes_url)\n",
    "soup2 = BeautifulSoup(response2.content, 'html.parser')\n",
    "#print(soup2.prettify())"
   ]
  },
  {
   "cell_type": "code",
   "execution_count": 55,
   "metadata": {},
   "outputs": [
    {
     "name": "stdout",
     "output_type": "stream",
     "text": [
      "Today's date =  2018-10-11\n",
      "Today's date =  11 October 2018\n",
      "\n",
      "e1\n",
      "Release Date ->  2019\n",
      "The next season begins in ->  2019\n"
     ]
    }
   ],
   "source": [
    "div = soup2.find_all('div', class_='airdate')\n",
    "\n",
    "#Today's date\n",
    "current_date = datetime.datetime.now().date()\n",
    "print(\"Today's date = \", current_date)\n",
    "c_date = datetime.datetime.strftime(current_date, \"%d %B %Y\")\n",
    "print(\"Today's date = \", c_date)\n",
    "print()\n",
    "\n",
    "#Indexing months\n",
    "short = ['Jan.', 'Feb.', 'Mar.', 'Apr.', 'Jun.', 'Jul.', 'Aug.', 'Sep.', 'Oct.', 'Nov.', 'Dec.']\n",
    "long = ['January', 'February', 'March', 'April', 'June', 'July', 'August', 'September', 'October', 'November', 'December']\n",
    "release_dates = {}\n",
    "\n",
    "for i,x in enumerate(div):\n",
    "    #Episode number\n",
    "    print('e{}'.format(i+1))\n",
    "    date_string = text_in_tag(x)\n",
    "    \n",
    "    #Convert short form of months to full expansion, as string\n",
    "    for y in short:\n",
    "        if y in date_string:\n",
    "            date_string = date_string.replace(y, long[short.index(y)])\n",
    "    print('Release Date -> ', date_string)\n",
    "    \n",
    "    date = ''\n",
    "    month = ''\n",
    "    year = ''\n",
    "    if date_string[0].isalpha():\n",
    "        #Convert to datetime format, get MONTHS and YEARS,\n",
    "        date_string = datetime.datetime.strptime(date_string, \"%B %Y\")\n",
    "        month = date_string.month\n",
    "        year = date_string.year\n",
    "        if(month == current_date.month) and (year == current_date.year):\n",
    "            print('The next season airs this month -> ', month, year)\n",
    "            break\n",
    "        elif(month > current_date.month) and (year >= current_date.year):\n",
    "            print('The next season airs this month -> ', month, year)\n",
    "            break\n",
    "        \n",
    "    elif date_string[3].isalpha():\n",
    "        date_string = datetime.datetime.strptime(date_string, \"%d %B %Y\")\n",
    "        date = date_string.day\n",
    "        month = date_string.month\n",
    "        year = date_string.year\n",
    "        if(date == current_date.day) and (month == current_date.month) and (year == current_date.year):\n",
    "            print(\"The episode airs today!! -> \", date, month, year)\n",
    "            break\n",
    "        elif (date > current_date.day) and (month >= current_date.month) and (year >= current_date.year):\n",
    "            print(\"The next episode airs on -> \", date, month, year)\n",
    "            break\n",
    "        \n",
    "    else:\n",
    "        date_string = datetime.datetime.strptime(date_string, \"%Y\")\n",
    "        year = date_string.year\n",
    "        if year == current_date.year:\n",
    "            print(\"The next season begins this year -> \", year)\n",
    "            break\n",
    "        if year > current_date.year:\n",
    "            print(\"The next season begins in -> \", year)\n",
    "            break\n",
    "    print()\n",
    "if year < current_date.year:\n",
    "    print(\"The show has finished streaming all its episodes!\")"
   ]
  },
  {
   "cell_type": "code",
   "execution_count": null,
   "metadata": {},
   "outputs": [],
   "source": []
  },
  {
   "cell_type": "code",
   "execution_count": null,
   "metadata": {
    "collapsed": true
   },
   "outputs": [],
   "source": []
  },
  {
   "cell_type": "code",
   "execution_count": null,
   "metadata": {
    "collapsed": true
   },
   "outputs": [],
   "source": []
  },
  {
   "cell_type": "code",
   "execution_count": null,
   "metadata": {
    "collapsed": true
   },
   "outputs": [],
   "source": []
  },
  {
   "cell_type": "code",
   "execution_count": null,
   "metadata": {
    "collapsed": true
   },
   "outputs": [],
   "source": []
  }
 ],
 "metadata": {
  "kernelspec": {
   "display_name": "Python 3",
   "language": "python",
   "name": "python3"
  },
  "language_info": {
   "codemirror_mode": {
    "name": "ipython",
    "version": 3
   },
   "file_extension": ".py",
   "mimetype": "text/x-python",
   "name": "python",
   "nbconvert_exporter": "python",
   "pygments_lexer": "ipython3",
   "version": "3.6.3"
  }
 },
 "nbformat": 4,
 "nbformat_minor": 2
}
