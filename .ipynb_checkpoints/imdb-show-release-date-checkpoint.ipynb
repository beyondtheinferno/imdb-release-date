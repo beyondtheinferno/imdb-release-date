{
 "cells": [
  {
   "cell_type": "code",
   "execution_count": 43,
   "metadata": {},
   "outputs": [],
   "source": [
    "from bs4 import BeautifulSoup\n",
    "import requests\n",
    "import re\n",
    "import datetime"
   ]
  },
  {
   "cell_type": "code",
   "execution_count": 2,
   "metadata": {},
   "outputs": [
    {
     "data": {
      "text/plain": [
       "'riverdale'"
      ]
     },
     "execution_count": 2,
     "metadata": {},
     "output_type": "execute_result"
    }
   ],
   "source": [
    "show = 'Riverdale'\n",
    "show = show.lower()\n",
    "show"
   ]
  },
  {
   "cell_type": "code",
   "execution_count": 90,
   "metadata": {
    "collapsed": true
   },
   "outputs": [],
   "source": [
    "base_url = 'https://www.imdb.com/title/tt5420376/'\n",
    "response = requests.get(base_url)"
   ]
  },
  {
   "cell_type": "code",
   "execution_count": 91,
   "metadata": {},
   "outputs": [],
   "source": [
    "soup = BeautifulSoup(response.content, 'html.parser')\n",
    "#print(soup.prettify())"
   ]
  },
  {
   "cell_type": "code",
   "execution_count": 92,
   "metadata": {},
   "outputs": [
    {
     "data": {
      "text/plain": [
       "\"Thirteen Reasons Why, based on the best-selling books by Jay Asher, follows teenager Clay Jensen (Dylan Minnette) as he returns home from school to find a mysterious box with his name on it lying on his porch. Inside he discovers a group of cassette tapes recorded by Hannah Baker (Katherine Langford) -his classmate and crush-who tragically committed suicide two weeks earlier. On tape, Hannah unfolds an emotional audio diary, detailing the thirteen reasons why she decided to end her life. Through Hannah and Clay's dual narratives, Thirteen Reasons Why weaves an intricate and heartrending story of confusion and desperation that will deeply affect viewers.\""
      ]
     },
     "execution_count": 92,
     "metadata": {},
     "output_type": "execute_result"
    }
   ],
   "source": [
    "div = soup.find_all('div', id='titleStoryLine')[0]\n",
    "temp = div.find('div', class_='inline canwrap')\n",
    "temp = temp.find('span')\n",
    "story = temp.get_text()\n",
    "story = story.rstrip()\n",
    "story = story.lstrip()\n",
    "story"
   ]
  },
  {
   "cell_type": "code",
   "execution_count": 93,
   "metadata": {},
   "outputs": [
    {
     "name": "stdout",
     "output_type": "stream",
     "text": [
      "Genre -> \n",
      "['suicide', 'depression', 'based on novel', 'death of a loved one', 'death by suicide']\n"
     ]
    }
   ],
   "source": [
    "temp2 = div.find('div', class_='see-more inline canwrap')\n",
    "temp2 = temp2.find_all('a')\n",
    "genre = []\n",
    "for x in temp2:\n",
    "    g = x.get_text()\n",
    "    g = g.rstrip()\n",
    "    g = g.lstrip()\n",
    "    if g.lower().startswith('see all'):\n",
    "        break\n",
    "    genre.append(g)\n",
    "print(\"Genre -> \")\n",
    "print(genre)"
   ]
  },
  {
   "cell_type": "code",
   "execution_count": 94,
   "metadata": {},
   "outputs": [
    {
     "name": "stdout",
     "output_type": "stream",
     "text": [
      "Latest season ->  3\n",
      "Link ->  /title/tt1837492/episodes?season=3&ref_=tt_eps_sn_3\n"
     ]
    }
   ],
   "source": [
    "div = soup.find_all('div', class_='seasons-and-year-nav')[0]\n",
    "a_list = div.find_all('a')\n",
    "latest_season = a_list[0].get_text()\n",
    "latest_season_link = a_list[0]['href']\n",
    "print(\"Latest season -> \",latest_season)\n",
    "print(\"Link -> \", latest_season_link)"
   ]
  },
  {
   "cell_type": "code",
   "execution_count": null,
   "metadata": {
    "collapsed": true
   },
   "outputs": [],
   "source": []
  },
  {
   "cell_type": "code",
   "execution_count": 95,
   "metadata": {},
   "outputs": [],
   "source": [
    "episodes_url = 'https://www.imdb.com' + latest_season_link\n",
    "response2 = requests.get(episodes_url)\n",
    "soup2 = BeautifulSoup(response2.content, 'html.parser')\n",
    "#print(soup2.prettify())"
   ]
  },
  {
   "cell_type": "code",
   "execution_count": 96,
   "metadata": {},
   "outputs": [
    {
     "name": "stdout",
     "output_type": "stream",
     "text": [
      "2018-10-10 00:00:00\n",
      "Yes\n",
      "Episode Release Dates -> \n",
      "{}\n"
     ]
    }
   ],
   "source": [
    "current_date = str(datetime.datetime.now().date())\n",
    "current_date = datetime.datetime.strptime(current_date, \"%Y-%m-%d\")\n",
    "#current_date = datetime.date.strftime(current_date, \"%d %B %Y\")\n",
    "print(current_date)\n",
    "\n",
    "\n",
    "div = soup2.find_all('div', class_='airdate')\n",
    "short = ['Jan.', 'Feb.', 'Mar.', 'Apr.', 'Jun.', 'Jul.', 'Aug.', 'Sep.', 'Oct.', 'Nov.', 'Dec.']\n",
    "long = ['January', 'February', 'March', 'April', 'June', 'July', 'August', 'September', 'October', 'November', 'December']\n",
    "release_dates = {}\n",
    "for i in range(len(div)):\n",
    "    temp = div[i].get_text()\n",
    "    temp = temp.rstrip()\n",
    "    temp = temp.lstrip()\n",
    "    for x in short:\n",
    "        if x in temp:\n",
    "            temp = temp.replace(x, long[short.index(x)])\n",
    "    if not(temp[0].isdigit()):\n",
    "        temp = datetime.datetime.strptime(temp, \"%B %Y\")\n",
    "        \n",
    "    elif(temp[3].isalpha()):\n",
    "        temp = datetime.datetime.strptime(temp, \"%d %B %Y\")\n",
    "    else:\n",
    "        temp = datetime.datetime.strptime(temp, \"%Y\")\n",
    "    \n",
    "    if current_date < temp:\n",
    "        print(\"Yes\")\n",
    "        break\n",
    "    temp = datetime.date.strftime(temp, \"%d %B %Y\")\n",
    "    release_dates['e{}'.format(i+1)] = temp\n",
    "print(\"Episode Release Dates -> \")\n",
    "print(release_dates)\n"
   ]
  },
  {
   "cell_type": "code",
   "execution_count": 82,
   "metadata": {},
   "outputs": [
    {
     "data": {
      "text/plain": [
       "1"
      ]
     },
     "execution_count": 82,
     "metadata": {},
     "output_type": "execute_result"
    }
   ],
   "source": [
    "datetime.datetime(2018, 1, 1).month"
   ]
  },
  {
   "cell_type": "code",
   "execution_count": null,
   "metadata": {},
   "outputs": [],
   "source": []
  },
  {
   "cell_type": "code",
   "execution_count": null,
   "metadata": {
    "collapsed": true
   },
   "outputs": [],
   "source": []
  },
  {
   "cell_type": "code",
   "execution_count": null,
   "metadata": {
    "collapsed": true
   },
   "outputs": [],
   "source": []
  },
  {
   "cell_type": "code",
   "execution_count": null,
   "metadata": {
    "collapsed": true
   },
   "outputs": [],
   "source": []
  },
  {
   "cell_type": "code",
   "execution_count": null,
   "metadata": {
    "collapsed": true
   },
   "outputs": [],
   "source": []
  },
  {
   "cell_type": "code",
   "execution_count": null,
   "metadata": {
    "collapsed": true
   },
   "outputs": [],
   "source": []
  },
  {
   "cell_type": "code",
   "execution_count": null,
   "metadata": {
    "collapsed": true
   },
   "outputs": [],
   "source": []
  },
  {
   "cell_type": "code",
   "execution_count": null,
   "metadata": {
    "collapsed": true
   },
   "outputs": [],
   "source": []
  },
  {
   "cell_type": "code",
   "execution_count": null,
   "metadata": {
    "collapsed": true
   },
   "outputs": [],
   "source": []
  },
  {
   "cell_type": "code",
   "execution_count": null,
   "metadata": {
    "collapsed": true
   },
   "outputs": [],
   "source": []
  },
  {
   "cell_type": "code",
   "execution_count": 97,
   "metadata": {},
   "outputs": [],
   "source": [
    "url = 'http://www.imdb.com/chart/top'\n",
    "response = requests.get(url)\n",
    "soup = BeautifulSoup(response.text, 'lxml')"
   ]
  },
  {
   "cell_type": "code",
   "execution_count": 98,
   "metadata": {},
   "outputs": [],
   "source": [
    "movies = soup.select('td.titleColumn')\n",
    "links = [a.attrs.get('href') for a in soup.select('td.titleColumn a')]\n",
    "crew = [a.attrs.get('title') for a in soup.select('td.titleColumn a')]\n",
    "ratings = [b.attrs.get('data-value') for b in soup.select('td.posterColumn span[name=ir]')]\n",
    "votes = [b.attrs.get('data-value') for b in soup.select('td.ratingColumn strong')]\n",
    "\n",
    "imdb = []"
   ]
  },
  {
   "cell_type": "code",
   "execution_count": 99,
   "metadata": {},
   "outputs": [],
   "source": [
    "# Store each item into dictionary (data), then put those into a list (imdb)\n",
    "for index in range(0, len(movies)):\n",
    "    # Seperate movie into: 'place', 'title', 'year'\n",
    "    movie_string = movies[index].get_text()\n",
    "    movie = (' '.join(movie_string.split()).replace('.', ''))\n",
    "    movie_title = movie[len(str(index))+1:-7]\n",
    "    year = re.search('\\((.*?)\\)', movie_string).group(1)\n",
    "    place = movie[:len(str(index))-(len(movie))]\n",
    "    data = {\"movie_title\": movie_title,\n",
    "            \"year\": year,\n",
    "            \"place\": place,\n",
    "            \"star_cast\": crew[index],\n",
    "            \"rating\": ratings[index],\n",
    "            \"vote\": votes[index],\n",
    "            \"link\": links[index]}\n",
    "    imdb.append(data)"
   ]
  },
  {
   "cell_type": "code",
   "execution_count": 100,
   "metadata": {},
   "outputs": [
    {
     "name": "stdout",
     "output_type": "stream",
     "text": [
      "1 - The Shawshank Redemption (1994) - Starring: Frank Darabont (dir.), Tim Robbins, Morgan Freeman\n",
      "2 - The Godfather (1972) - Starring: Francis Ford Coppola (dir.), Marlon Brando, Al Pacino\n",
      "3 - The Godfather: Part II (1974) - Starring: Francis Ford Coppola (dir.), Al Pacino, Robert De Niro\n",
      "4 - The Dark Knight (2008) - Starring: Christopher Nolan (dir.), Christian Bale, Heath Ledger\n",
      "5 - 12 Angry Men (1957) - Starring: Sidney Lumet (dir.), Henry Fonda, Lee J. Cobb\n",
      "6 - Schindler's List (1993) - Starring: Steven Spielberg (dir.), Liam Neeson, Ralph Fiennes\n",
      "7 - The Lord of the Rings: The Return of the King (2003) - Starring: Peter Jackson (dir.), Elijah Wood, Viggo Mortensen\n",
      "8 - Pulp Fiction (1994) - Starring: Quentin Tarantino (dir.), John Travolta, Uma Thurman\n",
      "9 - Il buono, il brutto, il cattivo (1966) - Starring: Sergio Leone (dir.), Clint Eastwood, Eli Wallach\n",
      "1 -  Fight Club (1999) - Starring: David Fincher (dir.), Brad Pitt, Edward Norton\n",
      "11 - The Lord of the Rings: The Fellowship of the Ring (2001) - Starring: Peter Jackson (dir.), Elijah Wood, Ian McKellen\n",
      "12 - Forrest Gump (1994) - Starring: Robert Zemeckis (dir.), Tom Hanks, Robin Wright\n",
      "13 - Star Wars: Episode V - The Empire Strikes Back (1980) - Starring: Irvin Kershner (dir.), Mark Hamill, Harrison Ford\n",
      "14 - Inception (2010) - Starring: Christopher Nolan (dir.), Leonardo DiCaprio, Joseph Gordon-Levitt\n",
      "15 - The Lord of the Rings: The Two Towers (2002) - Starring: Peter Jackson (dir.), Elijah Wood, Ian McKellen\n",
      "16 - One Flew Over the Cuckoo's Nest (1975) - Starring: Milos Forman (dir.), Jack Nicholson, Louise Fletcher\n",
      "17 - Goodfellas (1990) - Starring: Martin Scorsese (dir.), Robert De Niro, Ray Liotta\n",
      "18 - The Matrix (1999) - Starring: Lana Wachowski (dir.), Keanu Reeves, Laurence Fishburne\n",
      "19 - Shichinin no samurai (1954) - Starring: Akira Kurosawa (dir.), Toshirô Mifune, Takashi Shimura\n",
      "20 - Cidade de Deus (2002) - Starring: Fernando Meirelles (dir.), Alexandre Rodrigues, Leandro Firmino\n",
      "21 - Se7en (1995) - Starring: David Fincher (dir.), Morgan Freeman, Brad Pitt\n",
      "22 - Star Wars (1977) - Starring: George Lucas (dir.), Mark Hamill, Harrison Ford\n",
      "23 - The Silence of the Lambs (1991) - Starring: Jonathan Demme (dir.), Jodie Foster, Anthony Hopkins\n",
      "24 - It's a Wonderful Life (1946) - Starring: Frank Capra (dir.), James Stewart, Donna Reed\n",
      "25 - La vita è bella (1997) - Starring: Roberto Benigni (dir.), Roberto Benigni, Nicoletta Braschi\n",
      "26 - The Usual Suspects (1995) - Starring: Bryan Singer (dir.), Kevin Spacey, Gabriel Byrne\n",
      "27 - Sen to Chihiro no kamikakushi (2001) - Starring: Hayao Miyazaki (dir.), Daveigh Chase, Suzanne Pleshette\n",
      "28 - Saving Private Ryan (1998) - Starring: Steven Spielberg (dir.), Tom Hanks, Matt Damon\n",
      "29 - Léon (1994) - Starring: Luc Besson (dir.), Jean Reno, Gary Oldman\n",
      "30 - The Green Mile (1999) - Starring: Frank Darabont (dir.), Tom Hanks, Michael Clarke Duncan\n",
      "31 - Interstellar (2014) - Starring: Christopher Nolan (dir.), Matthew McConaughey, Anne Hathaway\n",
      "32 - American History X (1998) - Starring: Tony Kaye (dir.), Edward Norton, Edward Furlong\n",
      "33 - Psycho (1960) - Starring: Alfred Hitchcock (dir.), Anthony Perkins, Janet Leigh\n",
      "34 - City Lights (1931) - Starring: Charles Chaplin (dir.), Charles Chaplin, Virginia Cherrill\n",
      "35 - Once Upon a Time in the West (1968) - Starring: Sergio Leone (dir.), Henry Fonda, Charles Bronson\n",
      "36 - Casablanca (1942) - Starring: Michael Curtiz (dir.), Humphrey Bogart, Ingrid Bergman\n",
      "37 - Modern Times (1936) - Starring: Charles Chaplin (dir.), Charles Chaplin, Paulette Goddard\n",
      "38 - The Intouchables (2011) - Starring: Olivier Nakache (dir.), François Cluzet, Omar Sy\n",
      "39 - The Pianist (2002) - Starring: Roman Polanski (dir.), Adrien Brody, Thomas Kretschmann\n",
      "40 - The Departed (2006) - Starring: Martin Scorsese (dir.), Leonardo DiCaprio, Matt Damon\n",
      "41 - Terminator 2: Judgment Day (1991) - Starring: James Cameron (dir.), Arnold Schwarzenegger, Linda Hamilton\n",
      "42 - Back to the Future (1985) - Starring: Robert Zemeckis (dir.), Michael J. Fox, Christopher Lloyd\n",
      "43 - Rear Window (1954) - Starring: Alfred Hitchcock (dir.), James Stewart, Grace Kelly\n",
      "44 - Whiplash (2014) - Starring: Damien Chazelle (dir.), Miles Teller, J.K. Simmons\n",
      "45 - Raiders of the Lost Ark (1981) - Starring: Steven Spielberg (dir.), Harrison Ford, Karen Allen\n",
      "46 - Gladiator (2000) - Starring: Ridley Scott (dir.), Russell Crowe, Joaquin Phoenix\n",
      "47 - The Lion King (1994) - Starring: Roger Allers (dir.), Matthew Broderick, Jeremy Irons\n",
      "48 - The Prestige (2006) - Starring: Christopher Nolan (dir.), Christian Bale, Hugh Jackman\n",
      "49 - Avengers: Infinity War (2018) - Starring: Anthony Russo (dir.), Robert Downey Jr., Chris Hemsworth\n",
      "50 - Memento (2000) - Starring: Christopher Nolan (dir.), Guy Pearce, Carrie-Anne Moss\n",
      "51 - Apocalypse Now (1979) - Starring: Francis Ford Coppola (dir.), Martin Sheen, Marlon Brando\n",
      "52 - Alien (1979) - Starring: Ridley Scott (dir.), Sigourney Weaver, Tom Skerritt\n",
      "53 - The Great Dictator (1940) - Starring: Charles Chaplin (dir.), Charles Chaplin, Paulette Goddard\n",
      "54 - Nuovo Cinema Paradiso (1988) - Starring: Giuseppe Tornatore (dir.), Philippe Noiret, Enzo Cannavale\n",
      "55 - Hotaru no haka (1988) - Starring: Isao Takahata (dir.), Tsutomu Tatsumi, Ayano Shiraishi\n",
      "56 - Sunset Blvd (1950) - Starring: Billy Wilder (dir.), William Holden, Gloria Swanson\n",
      "57 - The Lives of Others (2006) - Starring: Florian Henckel von Donnersmarck (dir.), Ulrich Mühe, Martina Gedeck\n",
      "58 - Dr Strangelove or: How I Learned to Stop Worrying and Love the Bomb (1964) - Starring: Stanley Kubrick (dir.), Peter Sellers, George C. Scott\n",
      "59 - Paths of Glory (1957) - Starring: Stanley Kubrick (dir.), Kirk Douglas, Ralph Meeker\n",
      "60 - The Shining (1980) - Starring: Stanley Kubrick (dir.), Jack Nicholson, Shelley Duvall\n",
      "61 - Django Unchained (2012) - Starring: Quentin Tarantino (dir.), Jamie Foxx, Christoph Waltz\n",
      "62 - WALL·E (2008) - Starring: Andrew Stanton (dir.), Ben Burtt, Elissa Knight\n",
      "63 - Mononoke-hime (1997) - Starring: Hayao Miyazaki (dir.), Yôji Matsuda, Yuriko Ishida\n",
      "64 - Witness for the Prosecution (1957) - Starring: Billy Wilder (dir.), Tyrone Power, Marlene Dietrich\n",
      "65 - Coco (2017) - Starring: Lee Unkrich (dir.), Anthony Gonzalez, Gael García Bernal\n",
      "66 - American Beauty (1999) - Starring: Sam Mendes (dir.), Kevin Spacey, Annette Bening\n",
      "67 - The Dark Knight Rises (2012) - Starring: Christopher Nolan (dir.), Christian Bale, Tom Hardy\n",
      "68 - Oldeuboi (2003) - Starring: Chan-wook Park (dir.), Min-sik Choi, Ji-tae Yu\n",
      "69 - Aliens (1986) - Starring: James Cameron (dir.), Sigourney Weaver, Michael Biehn\n",
      "70 - Once Upon a Time in America (1984) - Starring: Sergio Leone (dir.), Robert De Niro, James Woods\n",
      "71 - Das Boot (1981) - Starring: Wolfgang Petersen (dir.), Jürgen Prochnow, Herbert Grönemeyer\n",
      "72 - Citizen Kane (1941) - Starring: Orson Welles (dir.), Orson Welles, Joseph Cotten\n",
      "73 - Braveheart (1995) - Starring: Mel Gibson (dir.), Mel Gibson, Sophie Marceau\n",
      "74 - Vertigo (1958) - Starring: Alfred Hitchcock (dir.), James Stewart, Kim Novak\n",
      "75 - North by Northwest (1959) - Starring: Alfred Hitchcock (dir.), Cary Grant, Eva Marie Saint\n",
      "76 - Reservoir Dogs (1992) - Starring: Quentin Tarantino (dir.), Harvey Keitel, Tim Roth\n",
      "77 - Kimi no na wa (2016) - Starring: Makoto Shinkai (dir.), Ryûnosuke Kamiki, Mone Kamishiraishi\n",
      "78 - Star Wars: Episode VI - Return of the Jedi (1983) - Starring: Richard Marquand (dir.), Mark Hamill, Harrison Ford\n",
      "79 - M - Eine Stadt sucht einen Mörder (1931) - Starring: Fritz Lang (dir.), Peter Lorre, Ellen Widmann\n",
      "80 - Dangal (2016) - Starring: Nitesh Tiwari (dir.), Aamir Khan, Sakshi Tanwar\n",
      "81 - Requiem for a Dream (2000) - Starring: Darren Aronofsky (dir.), Ellen Burstyn, Jared Leto\n",
      "82 - Amadeus (1984) - Starring: Milos Forman (dir.), F. Murray Abraham, Tom Hulce\n",
      "83 - Taare Zameen Par (2007) - Starring: Aamir Khan (dir.), Darsheel Safary, Aamir Khan\n",
      "84 - Lawrence of Arabia (1962) - Starring: David Lean (dir.), Peter O'Toole, Alec Guinness\n",
      "85 - Eternal Sunshine of the Spotless Mind (2004) - Starring: Michel Gondry (dir.), Jim Carrey, Kate Winslet\n",
      "86 - A Clockwork Orange (1971) - Starring: Stanley Kubrick (dir.), Malcolm McDowell, Patrick Magee\n",
      "87 - Amélie (2001) - Starring: Jean-Pierre Jeunet (dir.), Audrey Tautou, Mathieu Kassovitz\n",
      "88 - Double Indemnity (1944) - Starring: Billy Wilder (dir.), Fred MacMurray, Barbara Stanwyck\n",
      "89 - 3 Idiots (2009) - Starring: Rajkumar Hirani (dir.), Aamir Khan, Madhavan\n",
      "90 - 2001: A Space Odyssey (1968) - Starring: Stanley Kubrick (dir.), Keir Dullea, Gary Lockwood\n",
      "91 - Toy Story (1995) - Starring: John Lasseter (dir.), Tom Hanks, Tim Allen\n",
      "92 - Taxi Driver (1976) - Starring: Martin Scorsese (dir.), Robert De Niro, Jodie Foster\n",
      "93 - Singin' in the Rain (1952) - Starring: Stanley Donen (dir.), Gene Kelly, Donald O'Connor\n",
      "94 - Full Metal Jacket (1987) - Starring: Stanley Kubrick (dir.), Matthew Modine, R. Lee Ermey\n",
      "95 - Inglourious Basterds (2009) - Starring: Quentin Tarantino (dir.), Brad Pitt, Diane Kruger\n",
      "96 - To Kill a Mockingbird (1962) - Starring: Robert Mulligan (dir.), Gregory Peck, John Megna\n",
      "97 - Ladri di biciclette (1948) - Starring: Vittorio De Sica (dir.), Lamberto Maggiorani, Enzo Staiola\n",
      "98 - The Kid (1921) - Starring: Charles Chaplin (dir.), Charles Chaplin, Edna Purviance\n",
      "99 - The Sting (1973) - Starring: George Roy Hill (dir.), Paul Newman, Robert Redford\n",
      "10 -  Toy Story 3 (2010) - Starring: Lee Unkrich (dir.), Tom Hanks, Tim Allen\n",
      "101 - Good Will Hunting (1997) - Starring: Gus Van Sant (dir.), Robin Williams, Matt Damon\n",
      "102 - Jagten (2012) - Starring: Thomas Vinterberg (dir.), Mads Mikkelsen, Thomas Bo Larsen\n",
      "103 - Snatch (2000) - Starring: Guy Ritchie (dir.), Jason Statham, Brad Pitt\n",
      "104 - Monty Python and the Holy Grail (1975) - Starring: Terry Gilliam (dir.), Graham Chapman, John Cleese\n",
      "105 - Scarface (1983) - Starring: Brian De Palma (dir.), Al Pacino, Michelle Pfeiffer\n",
      "106 - Per qualche dollaro in più (1965) - Starring: Sergio Leone (dir.), Clint Eastwood, Lee Van Cleef\n",
      "107 - The Apartment (1960) - Starring: Billy Wilder (dir.), Jack Lemmon, Shirley MacLaine\n",
      "108 - LA Confidential (1997) - Starring: Curtis Hanson (dir.), Kevin Spacey, Russell Crowe\n",
      "109 - Metropolis (1927) - Starring: Fritz Lang (dir.), Brigitte Helm, Alfred Abel\n",
      "110 - Jodaeiye Nader az Simin (2011) - Starring: Asghar Farhadi (dir.), Payman Maadi, Leila Hatami\n",
      "111 - Indiana Jones and the Last Crusade (1989) - Starring: Steven Spielberg (dir.), Harrison Ford, Sean Connery\n",
      "112 - Rashômon (1950) - Starring: Akira Kurosawa (dir.), Toshirô Mifune, Machiko Kyô\n",
      "113 - Up (2009) - Starring: Pete Docter (dir.), Edward Asner, Jordan Nagai\n",
      "114 - All About Eve (1950) - Starring: Joseph L. Mankiewicz (dir.), Bette Davis, Anne Baxter\n",
      "115 - Yôjinbô (1961) - Starring: Akira Kurosawa (dir.), Toshirô Mifune, Eijirô Tôno\n",
      "116 - Batman Begins (2005) - Starring: Christopher Nolan (dir.), Christian Bale, Michael Caine\n",
      "117 - Some Like It Hot (1959) - Starring: Billy Wilder (dir.), Marilyn Monroe, Tony Curtis\n",
      "118 - Unforgiven (1992) - Starring: Clint Eastwood (dir.), Clint Eastwood, Gene Hackman\n",
      "119 - Der Untergang (2004) - Starring: Oliver Hirschbiegel (dir.), Bruno Ganz, Alexandra Maria Lara\n",
      "120 - The Treasure of the Sierra Madre (1948) - Starring: John Huston (dir.), Humphrey Bogart, Walter Huston\n",
      "121 - Die Hard (1988) - Starring: John McTiernan (dir.), Bruce Willis, Alan Rickman\n",
      "122 - Heat (1995) - Starring: Michael Mann (dir.), Al Pacino, Robert De Niro\n",
      "123 - Ikiru (1952) - Starring: Akira Kurosawa (dir.), Takashi Shimura, Nobuo Kaneko\n",
      "124 - Raging Bull (1980) - Starring: Martin Scorsese (dir.), Robert De Niro, Cathy Moriarty\n",
      "125 - Incendies (2010) - Starring: Denis Villeneuve (dir.), Lubna Azabal, Mélissa Désormeaux-Poulin\n",
      "126 - The Great Escape (1963) - Starring: John Sturges (dir.), Steve McQueen, James Garner\n",
      "127 - Babam ve Oglum (2005) - Starring: Çagan Irmak (dir.), Çetin Tekindor, Fikret Kuskan\n",
      "128 - Bacheha-Ye aseman (1997) - Starring: Majid Majidi (dir.), Mohammad Amir Naji, Amir Farrokh Hashemian\n",
      "129 - Pan's Labyrinth (2006) - Starring: Guillermo del Toro (dir.), Ivana Baquero, Ariadna Gil\n",
      "130 - The Third Man (1949) - Starring: Carol Reed (dir.), Orson Welles, Joseph Cotten\n",
      "131 - Chinatown (1974) - Starring: Roman Polanski (dir.), Jack Nicholson, Faye Dunaway\n",
      "132 - Tonari no Totoro (1988) - Starring: Hayao Miyazaki (dir.), Hitoshi Takagi, Noriko Hidaka\n",
      "133 - Ran (1985) - Starring: Akira Kurosawa (dir.), Tatsuya Nakadai, Akira Terao\n",
      "134 - Hauru no ugoku shiro (2004) - Starring: Hayao Miyazaki (dir.), Chieko Baishô, Takuya Kimura\n",
      "135 - Judgment at Nuremberg (1961) - Starring: Stanley Kramer (dir.), Spencer Tracy, Burt Lancaster\n",
      "136 - El secreto de sus ojos (2009) - Starring: Juan José Campanella (dir.), Ricardo Darín, Soledad Villamil\n",
      "137 - The Gold Rush (1925) - Starring: Charles Chaplin (dir.), Charles Chaplin, Mack Swain\n",
      "138 - The Bridge on the River Kwai (1957) - Starring: David Lean (dir.), William Holden, Alec Guinness\n",
      "139 - Three Billboards Outside Ebbing, Missouri (2017) - Starring: Martin McDonagh (dir.), Frances McDormand, Woody Harrelson\n",
      "140 - On the Waterfront (1954) - Starring: Elia Kazan (dir.), Marlon Brando, Karl Malden\n",
      "141 - A Beautiful Mind (2001) - Starring: Ron Howard (dir.), Russell Crowe, Ed Harris\n",
      "142 - Lock, Stock and Two Smoking Barrels (1998) - Starring: Guy Ritchie (dir.), Jason Flemyng, Dexter Fletcher\n",
      "143 - Casino (1995) - Starring: Martin Scorsese (dir.), Robert De Niro, Sharon Stone\n",
      "144 - Det sjunde inseglet (1957) - Starring: Ingmar Bergman (dir.), Max von Sydow, Gunnar Björnstrand\n",
      "145 - Inside Out (2015) - Starring: Pete Docter (dir.), Amy Poehler, Bill Hader\n",
      "146 - Room (2015) - Starring: Lenny Abrahamson (dir.), Brie Larson, Jacob Tremblay\n",
      "147 - The Elephant Man (1980) - Starring: David Lynch (dir.), Anthony Hopkins, John Hurt\n",
      "148 - Mr Smith Goes to Washington (1939) - Starring: Frank Capra (dir.), James Stewart, Jean Arthur\n",
      "149 - The Wolf of Wall Street (2013) - Starring: Martin Scorsese (dir.), Leonardo DiCaprio, Jonah Hill\n",
      "150 - V for Vendetta (2005) - Starring: James McTeigue (dir.), Hugo Weaving, Natalie Portman\n",
      "151 - Warrior (2011) - Starring: Gavin O'Connor (dir.), Tom Hardy, Nick Nolte\n",
      "152 - Blade Runner (1982) - Starring: Ridley Scott (dir.), Harrison Ford, Rutger Hauer\n",
      "153 - The General (1926) - Starring: Clyde Bruckman (dir.), Buster Keaton, Marion Mack\n",
      "154 - Smultronstället (1957) - Starring: Ingmar Bergman (dir.), Victor Sjöström, Bibi Andersson\n",
      "155 - Dial M for Murder (1954) - Starring: Alfred Hitchcock (dir.), Ray Milland, Grace Kelly\n",
      "156 - Trainspotting (1996) - Starring: Danny Boyle (dir.), Ewan McGregor, Ewen Bremner\n",
      "157 - No Country for Old Men (2007) - Starring: Ethan Coen (dir.), Tommy Lee Jones, Javier Bardem\n",
      "158 - There Will Be Blood (2007) - Starring: Paul Thomas Anderson (dir.), Daniel Day-Lewis, Paul Dano\n"
     ]
    },
    {
     "name": "stdout",
     "output_type": "stream",
     "text": [
      "159 - The Sixth Sense (1999) - Starring: M. Night Shyamalan (dir.), Bruce Willis, Haley Joel Osment\n",
      "160 - Gone with the Wind (1939) - Starring: Victor Fleming (dir.), Clark Gable, Vivien Leigh\n",
      "161 - Fargo (1996) - Starring: Joel Coen (dir.), William H. Macy, Frances McDormand\n",
      "162 - The Thing (1982) - Starring: John Carpenter (dir.), Kurt Russell, Wilford Brimley\n",
      "163 - Gran Torino (2008) - Starring: Clint Eastwood (dir.), Clint Eastwood, Bee Vang\n",
      "164 - The Deer Hunter (1978) - Starring: Michael Cimino (dir.), Robert De Niro, Christopher Walken\n",
      "165 - Finding Nemo (2003) - Starring: Andrew Stanton (dir.), Albert Brooks, Ellen DeGeneres\n",
      "166 - Sherlock Jr (1924) - Starring: Buster Keaton (dir.), Buster Keaton, Kathryn McGuire\n",
      "167 - Idi i smotri (1985) - Starring: Elem Klimov (dir.), Aleksey Kravchenko, Olga Mironova\n",
      "168 - The Big Lebowski (1998) - Starring: Joel Coen (dir.), Jeff Bridges, John Goodman\n",
      "169 - Kill Bill: Vol 1 (2003) - Starring: Quentin Tarantino (dir.), Uma Thurman, David Carradine\n",
      "170 - Shutter Island (2010) - Starring: Martin Scorsese (dir.), Leonardo DiCaprio, Emily Mortimer\n",
      "171 - Cool Hand Luke (1967) - Starring: Stuart Rosenberg (dir.), Paul Newman, George Kennedy\n",
      "172 - Rebecca (1940) - Starring: Alfred Hitchcock (dir.), Laurence Olivier, Joan Fontaine\n",
      "173 - Tôkyô monogatari (1953) - Starring: Yasujirô Ozu (dir.), Chishû Ryû, Chieko Higashiyama\n",
      "174 - Hacksaw Ridge (2016) - Starring: Mel Gibson (dir.), Andrew Garfield, Sam Worthington\n",
      "175 - Sunrise: A Song of Two Humans (1927) - Starring: F.W. Murnau (dir.), George O'Brien, Janet Gaynor\n",
      "176 - Mary and Max (2009) - Starring: Adam Elliot (dir.), Toni Collette, Philip Seymour Hoffman\n",
      "177 - How to Train Your Dragon (2010) - Starring: Dean DeBlois (dir.), Jay Baruchel, Gerard Butler\n",
      "178 - Gone Girl (2014) - Starring: David Fincher (dir.), Ben Affleck, Rosamund Pike\n",
      "179 - Relatos salvajes (2014) - Starring: Damián Szifron (dir.), Darío Grandinetti, María Marull\n",
      "180 - Jurassic Park (1993) - Starring: Steven Spielberg (dir.), Sam Neill, Laura Dern\n",
      "181 - Into the Wild (2007) - Starring: Sean Penn (dir.), Emile Hirsch, Vince Vaughn\n",
      "182 - Life of Brian (1979) - Starring: Terry Jones (dir.), Graham Chapman, John Cleese\n",
      "183 - Eskiya (1996) - Starring: Yavuz Turgul (dir.), Sener Sen, Ugur Yücel\n",
      "184 - It Happened One Night (1934) - Starring: Frank Capra (dir.), Clark Gable, Claudette Colbert\n",
      "185 - In the Name of the Father (1993) - Starring: Jim Sheridan (dir.), Daniel Day-Lewis, Pete Postlethwaite\n",
      "186 - Platoon (1986) - Starring: Oliver Stone (dir.), Charlie Sheen, Tom Berenger\n",
      "187 - The Grand Budapest Hotel (2014) - Starring: Wes Anderson (dir.), Ralph Fiennes, F. Murray Abraham\n",
      "188 - Stand by Me (1986) - Starring: Rob Reiner (dir.), Wil Wheaton, River Phoenix\n",
      "189 - Network (1976) - Starring: Sidney Lumet (dir.), Faye Dunaway, William Holden\n",
      "190 - The Truman Show (1998) - Starring: Peter Weir (dir.), Jim Carrey, Ed Harris\n",
      "191 - Stalker (1979) - Starring: Andrei Tarkovsky (dir.), Alisa Freyndlikh, Aleksandr Kaydanovskiy\n",
      "192 - Hotel Rwanda (2004) - Starring: Terry George (dir.), Don Cheadle, Sophie Okonedo\n",
      "193 - Andrei Rublev (1966) - Starring: Andrei Tarkovsky (dir.), Anatoliy Solonitsyn, Ivan Lapikov\n",
      "194 - Ben-Hur (1959) - Starring: William Wyler (dir.), Charlton Heston, Jack Hawkins\n",
      "195 - Persona (1966) - Starring: Ingmar Bergman (dir.), Bibi Andersson, Liv Ullmann\n",
      "196 - Salinui chueok (2003) - Starring: Joon-ho Bong (dir.), Kang-ho Song, Sang-kyung Kim\n",
      "197 - 12 Years a Slave (2013) - Starring: Steve McQueen (dir.), Chiwetel Ejiofor, Michael Kenneth Williams\n",
      "198 - Le salaire de la peur (1953) - Starring: Henri-Georges Clouzot (dir.), Yves Montand, Charles Vanel\n",
      "199 - Rang De Basanti (2006) - Starring: Rakeysh Omprakash Mehra (dir.), Aamir Khan, Soha Ali Khan\n",
      "200 - Million Dollar Baby (2004) - Starring: Clint Eastwood (dir.), Hilary Swank, Clint Eastwood\n",
      "201 - La passion de Jeanne d'Arc (1928) - Starring: Carl Theodor Dreyer (dir.), Maria Falconetti, Eugene Silvain\n",
      "202 - Rush (2013) - Starring: Ron Howard (dir.), Daniel Brühl, Chris Hemsworth\n",
      "203 - Mad Max: Fury Road (2015) - Starring: George Miller (dir.), Tom Hardy, Charlize Theron\n",
      "204 - Before Sunrise (1995) - Starring: Richard Linklater (dir.), Ethan Hawke, Julie Delpy\n",
      "205 - Les quatre cents coups (1959) - Starring: François Truffaut (dir.), Jean-Pierre Léaud, Albert Rémy\n",
      "206 - Spotlight (2015) - Starring: Tom McCarthy (dir.), Mark Ruffalo, Michael Keaton\n",
      "207 - A Star Is Born (2018) - Starring: Bradley Cooper (dir.), Lady Gaga, Bradley Cooper\n",
      "208 - Logan (2017) - Starring: James Mangold (dir.), Hugh Jackman, Patrick Stewart\n",
      "209 - Amores perros (2000) - Starring: Alejandro G. Iñárritu (dir.), Emilio Echevarría, Gael García Bernal\n",
      "210 - Hachi: A Dog's Tale (2009) - Starring: Lasse Hallström (dir.), Richard Gere, Joan Allen\n",
      "211 - Prisoners (2013) - Starring: Denis Villeneuve (dir.), Hugh Jackman, Jake Gyllenhaal\n",
      "212 - The Princess Bride (1987) - Starring: Rob Reiner (dir.), Cary Elwes, Mandy Patinkin\n",
      "213 - Kaze no tani no Naushika (1984) - Starring: Hayao Miyazaki (dir.), Sumi Shimamoto, Mahito Tsujimura\n",
      "214 - Butch Cassidy and the Sundance Kid (1969) - Starring: George Roy Hill (dir.), Paul Newman, Robert Redford\n",
      "215 - Catch Me If You Can (2002) - Starring: Steven Spielberg (dir.), Leonardo DiCaprio, Tom Hanks\n",
      "216 - Harry Potter and the Deathly Hallows: Part 2 (2011) - Starring: David Yates (dir.), Daniel Radcliffe, Emma Watson\n",
      "217 - Rocky (1976) - Starring: John G. Avildsen (dir.), Sylvester Stallone, Talia Shire\n",
      "218 - Barry Lyndon (1975) - Starring: Stanley Kubrick (dir.), Ryan O'Neal, Marisa Berenson\n",
      "219 - Monsters, Inc (2001) - Starring: Pete Docter (dir.), Billy Crystal, John Goodman\n",
      "220 - The Maltese Falcon (1941) - Starring: John Huston (dir.), Humphrey Bogart, Mary Astor\n",
      "221 - The Grapes of Wrath (1940) - Starring: John Ford (dir.), Henry Fonda, Jane Darwell\n",
      "222 - Les diaboliques (1955) - Starring: Henri-Georges Clouzot (dir.), Simone Signoret, Véra Clouzot\n",
      "223 - Donnie Darko (2001) - Starring: Richard Kelly (dir.), Jake Gyllenhaal, Jena Malone\n",
      "224 - The Terminator (1984) - Starring: James Cameron (dir.), Arnold Schwarzenegger, Linda Hamilton\n",
      "225 - Gandhi (1982) - Starring: Richard Attenborough (dir.), Ben Kingsley, John Gielgud\n",
      "226 - Blade Runner 2049 (2017) - Starring: Denis Villeneuve (dir.), Harrison Ford, Ryan Gosling\n",
      "227 - Dead Poets Society (1989) - Starring: Peter Weir (dir.), Robin Williams, Robert Sean Leonard\n",
      "228 - La La Land (2016) - Starring: Damien Chazelle (dir.), Ryan Gosling, Emma Stone\n",
      "229 - Le notti di Cabiria (1957) - Starring: Federico Fellini (dir.), Giulietta Masina, François Périer\n",
      "230 - La haine (1995) - Starring: Mathieu Kassovitz (dir.), Vincent Cassel, Hubert Koundé\n",
      "231 - Groundhog Day (1993) - Starring: Harold Ramis (dir.), Bill Murray, Andie MacDowell\n",
      "232 - The Wizard of Oz (1939) - Starring: Victor Fleming (dir.), Judy Garland, Frank Morgan\n",
      "233 - Jaws (1975) - Starring: Steven Spielberg (dir.), Roy Scheider, Robert Shaw\n",
      "234 - Paper Moon (1973) - Starring: Peter Bogdanovich (dir.), Ryan O'Neal, Tatum O'Neal\n",
      "235 - The Help (2011) - Starring: Tate Taylor (dir.), Emma Stone, Viola Davis\n",
      "236 - Faa yeung nin wa (2000) - Starring: Kar-Wai Wong (dir.), Tony Chiu-Wai Leung, Maggie Cheung\n",
      "237 - A Wednesday (2008) - Starring: Neeraj Pandey (dir.), Anupam Kher, Naseeruddin Shah\n",
      "238 - Gangs of Wasseypur (2012) - Starring: Anurag Kashyap (dir.), Manoj Bajpayee, Richa Chadha\n",
      "239 - Before Sunset (2004) - Starring: Richard Linklater (dir.), Ethan Hawke, Julie Delpy\n",
      "240 - The Bourne Ultimatum (2007) - Starring: Paul Greengrass (dir.), Matt Damon, Edgar Ramírez\n",
      "241 - Paris, Texas (1984) - Starring: Wim Wenders (dir.), Harry Dean Stanton, Nastassja Kinski\n",
      "242 - Guardians of the Galaxy (2014) - Starring: James Gunn (dir.), Chris Pratt, Vin Diesel\n",
      "243 - Tenkû no shiro Rapyuta (1986) - Starring: Hayao Miyazaki (dir.), Anna Paquin, James Van Der Beek\n",
      "244 - Ah-ga-ssi (2016) - Starring: Chan-wook Park (dir.), Min-hee Kim, Jung-woo Ha\n",
      "245 - Mandariinid (2013) - Starring: Zaza Urushadze (dir.), Lembit Ulfsak, Elmo Nüganen\n",
      "246 - Pirates of the Caribbean: The Curse of the Black Pearl (2003) - Starring: Gore Verbinski (dir.), Johnny Depp, Geoffrey Rush\n",
      "247 - PK (2014) - Starring: Rajkumar Hirani (dir.), Aamir Khan, Anushka Sharma\n",
      "248 - The Best Years of Our Lives (1946) - Starring: William Wyler (dir.), Myrna Loy, Dana Andrews\n",
      "249 - Beauty and the Beast (1991) - Starring: Gary Trousdale (dir.), Paige O'Hara, Robby Benson\n",
      "250 - Kis Uykusu (2014) - Starring: Nuri Bilge Ceylan (dir.), Haluk Bilginer, Melisa Sözen\n"
     ]
    }
   ],
   "source": [
    "for item in imdb:\n",
    "    print(item['place'], '-', item['movie_title'], '('+item['year']+') -', 'Starring:', item['star_cast'])\n"
   ]
  },
  {
   "cell_type": "code",
   "execution_count": null,
   "metadata": {
    "collapsed": true
   },
   "outputs": [],
   "source": []
  }
 ],
 "metadata": {
  "kernelspec": {
   "display_name": "Python 3",
   "language": "python",
   "name": "python3"
  },
  "language_info": {
   "codemirror_mode": {
    "name": "ipython",
    "version": 3
   },
   "file_extension": ".py",
   "mimetype": "text/x-python",
   "name": "python",
   "nbconvert_exporter": "python",
   "pygments_lexer": "ipython3",
   "version": "3.6.3"
  }
 },
 "nbformat": 4,
 "nbformat_minor": 2
}
